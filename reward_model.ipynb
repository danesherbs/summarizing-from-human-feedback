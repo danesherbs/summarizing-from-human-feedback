{
 "cells": [
  {
   "cell_type": "code",
   "execution_count": 12,
   "metadata": {},
   "outputs": [],
   "source": [
    "import torch\n",
    "import json\n",
    "import linecache\n",
    "import collections"
   ]
  },
  {
   "cell_type": "code",
   "execution_count": 58,
   "metadata": {},
   "outputs": [
    {
     "name": "stdout",
     "output_type": "stream",
     "text": [
      "dict_keys(['info', 'split', 'summaries', 'choice', 'worker', 'batch', 'extra'])\n",
      "{'id': 't3_52mb8y', 'post': \"This is my first post so please be kind :)\\n\\nI know that lots of people often feel confused when they come out of a long-term relationship. They think they have forgotten how to be single, or how to flirt/date.\\n\\nI am one of these people.\\n\\nThe problem is, my relationship started when I had just turned 16. I have never been single - as an adult. That might sound silly. But the only time I have ever flirted or dated was as an over-confident, hormone-riddled teenager.\\n\\nNow I have a pretty demanding job, responsibilities blah blah... And I just don't know how to this!\\n\\nI'm no way in a rush to get into a new relationship, but that doesn't mean I want to be completely alone in the mean time.\\n\\nIf anyone has experienced anything similar, or just generally has some advice, it would be greatly appreciated!\", 'title': \"I [23F] have just come out of 8 year relationship. Feel like I don't know how to date/flirt. Scared will grow old with many cats. Any advice?\", 'subreddit': 'relationships'}\n",
      "[{'text': \" Just came out of 8 year relationship, don't know how to please myself or how to flirt/date. How do I do this?\", 'policy': 'sup4_t0.7', 'note': 'Ok'}, {'text': \" I never dated/flirted as an adult, now I'm not sure how to date. Scared will grow old with many cats. Any advice?\", 'policy': 'sup4_t0.7', 'note': 'Ok'}]\n",
      "1\n"
     ]
    }
   ],
   "source": [
    "with open(\"comparisons/batch10.json\", \"r\") as file:\n",
    "    for i, json_str in enumerate(file):\n",
    "        obj = json.loads(json_str)\n",
    "        print(obj.keys())\n",
    "        print(obj[\"info\"])\n",
    "        print(obj[\"summaries\"])\n",
    "        print(obj[\"choice\"])\n",
    "        break"
   ]
  },
  {
   "cell_type": "code",
   "execution_count": 55,
   "metadata": {},
   "outputs": [],
   "source": [
    "class ComparisonDataset(torch.utils.data.Dataset):\n",
    "    def __init__(self, path_to_dataset_dir):\n",
    "        self.path_to_dataset_dir = path_to_dataset_dir\n",
    "        self.file_names = [f\"{path_to_dataset_dir}/batch{i}.json\" for i in range (3, 11)]\n",
    "        self.file_lengths = None\n",
    "\n",
    "    def __len__(self):\n",
    "        if self.file_lengths is None:\n",
    "            self.file_lengths = collections.OrderedDict()\n",
    "            for file_name in self.file_names:\n",
    "                with open(file_name) as f:\n",
    "                    self.file_lengths[file_name] = sum(1 for line in f)\n",
    "        \n",
    "        return sum(self.file_lengths.values())\n",
    "    \n",
    "    def __getitem__(self, i):\n",
    "        i = i % len(self)\n",
    "\n",
    "        if not (0 <= i < len(self)):\n",
    "            raise IndexError(f\"Tried to retrieve sample at index {i}, but only indicies between 0 and {len(self)-1} modulo {len(self)} are valid.\")\n",
    "        \n",
    "        cum_length = 0\n",
    "        \n",
    "        for file_name in self.file_names:\n",
    "            cum_length += self.file_lengths[file_name]\n",
    "            if i < cum_length:\n",
    "                file_idx = i - cum_length + self.file_lengths[file_name]\n",
    "                # print(file_idx)\n",
    "                line = linecache.getline(file_name, lineno=file_idx+1)\n",
    "                # print(file_name)\n",
    "                # print(line)\n",
    "                payload = json.loads(line)\n",
    "                choice = payload[\"choice\"]\n",
    "                summary_good = payload[\"summaries\"][choice][\"text\"]\n",
    "                summary_bad = payload[\"summaries\"][1 - choice][\"text\"]\n",
    "                post = payload[\"info\"][\"post\"]\n",
    "                post_good = f\"{post} TLDR:{summary_good}\"\n",
    "                post_bad = f\"{post} TLDR:{summary_bad}\"\n",
    "                return post_good, post_bad\n",
    "\n",
    "\n",
    "dataset = ComparisonDataset(path_to_dataset_dir=\"./comparisons\")"
   ]
  },
  {
   "cell_type": "code",
   "execution_count": 56,
   "metadata": {},
   "outputs": [
    {
     "data": {
      "text/plain": [
       "(\"My boyfriend and I are long distance. We have a trip planned this summer which involves me going over to him in the USA. This will be the second time I have actually been with him in person. I am flying from the UK with my mum to the east coast. The original plan was for me to fly over to my boyfriend in the west coast (my parents are holidaying on the east coast) but because my mum was freaking out so much about me going to meet my boyfriend i said we can all road trip there together. I even invited her on the trip with us. I have given her all of our dates so that she can travel around with us.\\n\\nThe plan was for me to stay on the 4th July and fly back on the 5th. Mum knew this. I told her I had booked a flight back already from the west coast to east coast (where she would pick me up and we would fly back to the UK together). She has gone mad at me because she can't believe I would book a flight when she told me she didn't want me flying on my own. At the time I had booked it she told me she wasn't gonna road trip with us. She knew the trip was happening.......how else was I to get home if I don't fly? \\n\\nI am fine flying on my own it doesn't bother me at all. I feel like I have done everything I can to make her feel comfortable with this trip and she is just trying to sabotage it. Thoughts?? TLDR:  I have made sure my mother is comfortable with my boyfriend travelling on a trip and now my mother is mad because I booked it.\",\n",
       " \"My boyfriend and I are long distance. We have a trip planned this summer which involves me going over to him in the USA. This will be the second time I have actually been with him in person. I am flying from the UK with my mum to the east coast. The original plan was for me to fly over to my boyfriend in the west coast (my parents are holidaying on the east coast) but because my mum was freaking out so much about me going to meet my boyfriend i said we can all road trip there together. I even invited her on the trip with us. I have given her all of our dates so that she can travel around with us.\\n\\nThe plan was for me to stay on the 4th July and fly back on the 5th. Mum knew this. I told her I had booked a flight back already from the west coast to east coast (where she would pick me up and we would fly back to the UK together). She has gone mad at me because she can't believe I would book a flight when she told me she didn't want me flying on my own. At the time I had booked it she told me she wasn't gonna road trip with us. She knew the trip was happening.......how else was I to get home if I don't fly? \\n\\nI am fine flying on my own it doesn't bother me at all. I feel like I have done everything I can to make her feel comfortable with this trip and she is just trying to sabotage it. Thoughts?? TLDR:  Mum is mad at me for not flying on my own trip to meet my boyfriend.\")"
      ]
     },
     "execution_count": 56,
     "metadata": {},
     "output_type": "execute_result"
    }
   ],
   "source": [
    "dataset[0]"
   ]
  }
 ],
 "metadata": {
  "interpreter": {
   "hash": "767d51c1340bd893661ea55ea3124f6de3c7a262a8b4abca0554b478b1e2ff90"
  },
  "kernelspec": {
   "display_name": "Python 3.8.10 64-bit",
   "language": "python",
   "name": "python3"
  },
  "language_info": {
   "codemirror_mode": {
    "name": "ipython",
    "version": 3
   },
   "file_extension": ".py",
   "mimetype": "text/x-python",
   "name": "python",
   "nbconvert_exporter": "python",
   "pygments_lexer": "ipython3",
   "version": "3.8.10"
  },
  "orig_nbformat": 4
 },
 "nbformat": 4,
 "nbformat_minor": 2
}
