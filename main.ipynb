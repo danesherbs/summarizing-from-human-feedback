{
 "cells": [
  {
   "cell_type": "code",
   "execution_count": 1,
   "metadata": {},
   "outputs": [],
   "source": [
    "import torch\n",
    "import transformers\n",
    "import einops\n",
    "from torchtyping import TensorType"
   ]
  },
  {
   "cell_type": "code",
   "execution_count": 2,
   "metadata": {},
   "outputs": [],
   "source": [
    "DEVICE = \"cuda:1\""
   ]
  },
  {
   "cell_type": "code",
   "execution_count": 3,
   "metadata": {},
   "outputs": [],
   "source": [
    "tokenizer = transformers.GPT2Tokenizer.from_pretrained('gpt2')\n",
    "model = transformers.GPT2LMHeadModel.from_pretrained('gpt2', pad_token_id=tokenizer.eos_token_id).to(DEVICE)\n",
    "ref_model = transformers.GPT2LMHeadModel.from_pretrained('gpt2').to(DEVICE)"
   ]
  },
  {
   "cell_type": "code",
   "execution_count": 4,
   "metadata": {},
   "outputs": [],
   "source": [
    "def count_periods(s: str) -> int:\n",
    "    return sum(1 if c == \".\" else 0 for c in s)"
   ]
  },
  {
   "cell_type": "code",
   "execution_count": 5,
   "metadata": {},
   "outputs": [
    {
     "name": "stderr",
     "output_type": "stream",
     "text": [
      "/home/ubuntu/.local/lib/python3.8/site-packages/torch/nn/functional.py:2747: UserWarning: reduction: 'mean' divides the total loss by both the batch size and the support size.'batchmean' divides only by the batch size, and aligns with the KL div math definition.'mean' will be changed to behave the same as 'batchmean' in the next major release.\n",
      "  warnings.warn(\n"
     ]
    },
    {
     "name": "stdout",
     "output_type": "stream",
     "text": [
      "Step 10 | loss -9.76044 | avg reward 1.95000 | lr 7.5e-06\n",
      "Step 20 | loss -17.20097 | avg reward 3.70000 | lr 1.5e-05\n",
      "Step 30 | loss -0.00038 | avg reward 19.00000 | lr 2.25e-05\n",
      "Step 40 | loss -0.00038 | avg reward 19.00000 | lr 3e-05\n",
      "Step 50 | loss -0.00038 | avg reward 19.00000 | lr 3e-05\n",
      "Step 60 | loss -0.00038 | avg reward 19.00000 | lr 3e-05\n",
      "Step 70 | loss -0.00038 | avg reward 19.00000 | lr 3e-05\n",
      "Step 80 | loss -0.00038 | avg reward 19.00000 | lr 3e-05\n",
      "Step 90 | loss -0.00038 | avg reward 19.00000 | lr 3e-05\n",
      "Step 100 | loss -0.00038 | avg reward 19.00000 | lr 3e-05\n"
     ]
    }
   ],
   "source": [
    "def lr_schedule(epoch: int) -> float:\n",
    "    if epoch <= 40:\n",
    "        return epoch / 40\n",
    "    \n",
    "    return 1.0\n",
    "\n",
    "\n",
    "def train(model, reference_model, num_steps, num_tokens_to_generate, batch_size, lr, kl_loss_coefficient, print_every=1, device=DEVICE):\n",
    "    optimizer = torch.optim.Adam(model.parameters(), lr=lr)\n",
    "    scheduler = torch.optim.lr_scheduler.LambdaLR(optimizer, lr_lambda=lr_schedule)\n",
    "    vocab_size = len(tokenizer)\n",
    "\n",
    "    for i in range(num_steps):\n",
    "        optimizer.zero_grad()\n",
    "        \n",
    "        input_ids = torch.full(size=(batch_size, 1), fill_value=tokenizer.eos_token_id).to(device)\n",
    "        response_ids = model.generate(\n",
    "            input_ids,\n",
    "            max_length=num_tokens_to_generate,\n",
    "            min_length=num_tokens_to_generate,\n",
    "            do_sample=True,\n",
    "            temperature=0.6,\n",
    "            top_p=1.0,\n",
    "            top_k=vocab_size,\n",
    "        )\n",
    "        reponse_texts = tokenizer.batch_decode(response_ids)\n",
    "        rewards = torch.tensor([count_periods(response) for response in reponse_texts], dtype=torch.float32).to(device)\n",
    "        \n",
    "        rewards_mean = torch.mean(rewards, dim=-1, keepdim=True)\n",
    "        rewards_std = torch.std(rewards, dim=-1, keepdim=True)\n",
    "        rewards_normed = (rewards - rewards_mean) / (rewards_std + 1e-6)\n",
    "\n",
    "        log_probs = log_prob_of_sequence(model, response_ids)\n",
    "        reference_log_probs = log_prob_of_sequence(reference_model, response_ids)\n",
    "\n",
    "        probs = torch.exp(reference_log_probs)\n",
    "        reference_probs = torch.exp(reference_log_probs)\n",
    "\n",
    "        kl_loss = torch.nn.functional.kl_div(reference_probs, probs)\n",
    "        loss = -(log_probs * rewards_normed).mean() + kl_loss_coefficient * kl_loss.mean()\n",
    "        \n",
    "        loss.backward()\n",
    "        torch.nn.utils.clip_grad_norm_(model.parameters(), max_norm=1.0)\n",
    "        optimizer.step()\n",
    "        scheduler.step()\n",
    "        \n",
    "        if (i+1) % print_every == 0:\n",
    "            print(f\"Step {(i+1):2} | loss {loss:.5f} | avg reward {rewards.mean():.5f} | lr {scheduler.get_last_lr()[0]}\")\n",
    "\n",
    "\n",
    "def log_prob_of_sequence(model: torch.nn.Module, input_ids: TensorType[\"batch_size\", \"seq_len\"]) -> TensorType[\"batch_size\"]:\n",
    "    \"\"\"\n",
    "    Calculates p(x_1, x_2, ..., x_n | x_0) = p(x_1 | x_0) * p(x_2 | x_1, x_0) * ... * p(x_{n} | x_{n-1}, ..., x_0)\n",
    "    \"\"\"\n",
    "\n",
    "    logits = model(input_ids).logits[:, :-1]  # [batch_size, seq_len-1, vocab_size] -- ignore x_{n+1}\n",
    "    log_probs = torch.nn.functional.log_softmax(logits, dim=-1) \n",
    "    \n",
    "    input_ids = input_ids[:, 1:]  # [batch_size, seq_len-1, vocab_size]  -- ignore x_0\n",
    "    input_ids = input_ids.unsqueeze(-1)  # [batch_size, seq_len] -> [batch_size, seq_len, 1]\n",
    "    seq_log_probs = torch.gather(input=log_probs, dim=-1, index=input_ids)\n",
    "    seq_log_probs = seq_log_probs.squeeze(-1) # [batch_size, seq_len, 1] -> [batch_size, seq_len]\n",
    "\n",
    "    return torch.sum(seq_log_probs, dim=-1)  # [batch_size,]\n",
    "\n",
    "\n",
    "train(\n",
    "    model=model,\n",
    "    reference_model=ref_model,\n",
    "    num_steps=100,\n",
    "    num_tokens_to_generate=20,\n",
    "    batch_size=20,\n",
    "    lr=3e-5,\n",
    "    kl_loss_coefficient=0.2,\n",
    "    print_every=10,\n",
    ")"
   ]
  },
  {
   "cell_type": "code",
   "execution_count": 6,
   "metadata": {},
   "outputs": [
    {
     "data": {
      "text/plain": [
       "['This is where things get weird and crazy. At least offensively, it was hard.\"\\n\\nListen']"
      ]
     },
     "execution_count": 6,
     "metadata": {},
     "output_type": "execute_result"
    }
   ],
   "source": [
    "input_ids = tokenizer([\"This is\"], return_tensors=\"pt\").input_ids.to(DEVICE)\n",
    "response_ids = model.generate(\n",
    "    input_ids,\n",
    "    max_length=20,\n",
    "    min_length=20,\n",
    "    do_sample=True,\n",
    "    temperature=0.6,\n",
    "    top_p=1.0,\n",
    "    top_k=len(tokenizer),\n",
    ")\n",
    "tokenizer.batch_decode(response_ids)"
   ]
  },
  {
   "cell_type": "code",
   "execution_count": 7,
   "metadata": {},
   "outputs": [],
   "source": [
    "class LayerHook:\n",
    "    def __init__(self):\n",
    "        self.module = None\n",
    "        self.input = None\n",
    "        self.output = None\n",
    "        \n",
    "    def __call__(self, module, input, output):\n",
    "        self.module = module\n",
    "        self.input = input\n",
    "        self.output = output\n",
    "\n",
    "\n",
    "class GPTWithValueNetwork(torch.nn.Module):\n",
    "    def __init__(self):\n",
    "        self.hook = LayerHook()\n",
    "        self.gpt = transformers.GPT2LMHeadModel.from_pretrained('gpt2', pad_token_id=tokenizer.eos_token_id)\n",
    "        self.gpt.transformer.h[11].register_forward_hook(self.hook)\n",
    "        self.linear = torch.nn.Linear(768, 1)\n",
    "    \n",
    "    def forward(self, input_ids):\n",
    "        policy = self.gpt(input_ids).logits\n",
    "        value = self.linear(self.hook.output)\n",
    "        return policy, value\n",
    "\n"
   ]
  },
  {
   "cell_type": "code",
   "execution_count": 22,
   "metadata": {},
   "outputs": [
    {
     "name": "stdout",
     "output_type": "stream",
     "text": [
      "torch.Size([16, 20, 768])\n"
     ]
    }
   ],
   "source": [
    "def lr_schedule(epoch: int) -> float:\n",
    "    if epoch <= 40:\n",
    "        return epoch / 40\n",
    "    \n",
    "    return 1.0\n",
    "\n",
    "\n",
    "def train_temporal_difference(model, reference_model, value_network, num_steps, num_tokens_to_generate, batch_size, lr, kl_loss_coefficient, print_every=1, device=DEVICE):\n",
    "    optimizer = torch.optim.Adam(model.parameters(), lr=lr)\n",
    "    scheduler = torch.optim.lr_scheduler.LambdaLR(optimizer, lr_lambda=lr_schedule)\n",
    "    vocab_size = len(tokenizer)\n",
    "\n",
    "    for i in range(num_steps):\n",
    "        optimizer.zero_grad()\n",
    "        \n",
    "        input_ids = torch.full(size=(batch_size, 1), fill_value=tokenizer.eos_token_id).to(device)\n",
    "        response_ids = model.generate(\n",
    "            input_ids,\n",
    "            max_length=num_tokens_to_generate,\n",
    "            min_length=num_tokens_to_generate,\n",
    "            do_sample=True,\n",
    "            temperature=0.6,\n",
    "            top_p=1.0,\n",
    "            top_k=vocab_size,\n",
    "        )\n",
    "        reponse_texts = tokenizer.batch_decode(response_ids)\n",
    "        rewards = torch.tensor([count_periods(response) for response in reponse_texts], dtype=torch.float32).to(device)\n",
    "        \n",
    "        rewards_mean = torch.mean(rewards, dim=-1, keepdim=True)\n",
    "        rewards_std = torch.std(rewards, dim=-1, keepdim=True)\n",
    "        rewards_normed = (rewards - rewards_mean) / (rewards_std + 1e-6)\n",
    "\n",
    "        with torch.no_grad():\n",
    "            [hidden_states] = model(response_ids, output_hidden_states=True)\n",
    "            last_hidden_state = hidden_states[:, -1]\n",
    "        \n",
    "        values = value_network(last_hidden_state)  # [batch_size, seq_len]\n",
    "\n",
    "        log_probs = log_prob_of_sequence(model, response_ids)\n",
    "        reference_log_probs = log_prob_of_sequence(reference_model, response_ids)\n",
    "\n",
    "        probs = torch.exp(reference_log_probs)\n",
    "        reference_probs = torch.exp(reference_log_probs)\n",
    "\n",
    "        kl_loss = torch.nn.functional.kl_div(reference_probs, probs)\n",
    "        loss = -(log_probs * rewards_normed).mean() + kl_loss_coefficient * kl_loss.mean()\n",
    "        \n",
    "        loss.backward()\n",
    "        torch.nn.utils.clip_grad_norm_(model.parameters(), max_norm=1.0)\n",
    "        optimizer.step()\n",
    "        scheduler.step()\n",
    "        \n",
    "        if (i+1) % print_every == 0:\n",
    "            print(f\"Step {(i+1):2} | loss {loss:.5f} | avg reward {rewards.mean():.5f} | lr {scheduler.get_last_lr()[0]}\")\n",
    "\n",
    "\n",
    "def log_prob_of_sequence(model: torch.nn.Module, input_ids: TensorType[\"batch_size\", \"seq_len\"]) -> TensorType[\"batch_size\"]:\n",
    "    \"\"\"\n",
    "    Calculates p(x_1, x_2, ..., x_n | x_0) = p(x_1 | x_0) * p(x_2 | x_1, x_0) * ... * p(x_{n} | x_{n-1}, ..., x_0)\n",
    "    \"\"\"\n",
    "\n",
    "    logits = model(input_ids).logits[:, :-1]  # [batch_size, seq_len-1, vocab_size] -- ignore x_{n+1}\n",
    "    log_probs = torch.nn.functional.log_softmax(logits, dim=-1) \n",
    "    \n",
    "    input_ids = input_ids[:, 1:]  # [batch_size, seq_len-1, vocab_size]  -- ignore x_0\n",
    "    input_ids = input_ids.unsqueeze(-1)  # [batch_size, seq_len] -> [batch_size, seq_len, 1]\n",
    "    seq_log_probs = torch.gather(input=log_probs, dim=-1, index=input_ids)\n",
    "    seq_log_probs = seq_log_probs.squeeze(-1) # [batch_size, seq_len, 1] -> [batch_size, seq_len]\n",
    "\n",
    "    return torch.sum(seq_log_probs, dim=-1)  # [batch_size,]\n",
    "\n",
    "\n",
    "train_temporal_difference(\n",
    "    model=model,\n",
    "    reference_model=ref_model,\n",
    "    num_steps=100,\n",
    "    num_tokens_to_generate=20,\n",
    "    batch_size=16,\n",
    "    lr=3e-5,\n",
    "    kl_loss_coefficient=0.2,\n",
    "    print_every=10,\n",
    ")"
   ]
  },
  {
   "cell_type": "code",
   "execution_count": null,
   "metadata": {},
   "outputs": [],
   "source": []
  }
 ],
 "metadata": {
  "interpreter": {
   "hash": "767d51c1340bd893661ea55ea3124f6de3c7a262a8b4abca0554b478b1e2ff90"
  },
  "kernelspec": {
   "display_name": "Python 3.8.5 64-bit",
   "language": "python",
   "name": "python3"
  },
  "language_info": {
   "codemirror_mode": {
    "name": "ipython",
    "version": 3
   },
   "file_extension": ".py",
   "mimetype": "text/x-python",
   "name": "python",
   "nbconvert_exporter": "python",
   "pygments_lexer": "ipython3",
   "version": "3.8.10"
  },
  "orig_nbformat": 4
 },
 "nbformat": 4,
 "nbformat_minor": 2
}
